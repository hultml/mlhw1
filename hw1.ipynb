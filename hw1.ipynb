{
 "cells": [
  {
   "cell_type": "markdown",
   "metadata": {},
   "source": [
    "# HW 1"
   ]
  },
  {
   "cell_type": "code",
   "execution_count": 1,
   "metadata": {
    "collapsed": false,
    "jupyter": {
     "outputs_hidden": false
    }
   },
   "outputs": [],
   "source": [
    "import numpy as np\n",
    "import pandas as pd\n",
    "import scipy as sp\n",
    "import matplotlib\n",
    "import matplotlib.pyplot as plt\n",
    "import sklearn as sk\n",
    "from sklearn.model_selection import train_test_split\n",
    "from sklearn.linear_model import LinearRegression\n",
    "%matplotlib inline"
   ]
  },
  {
   "cell_type": "markdown",
   "metadata": {},
   "source": [
    "## Step #1: Load and Explore Data"
   ]
  },
  {
   "cell_type": "code",
   "execution_count": 3,
   "metadata": {
    "collapsed": false,
    "jupyter": {
     "outputs_hidden": false
    }
   },
   "outputs": [
    {
     "name": "stderr",
     "output_type": "stream",
     "text": [
      "/var/folders/wq/mr3zj9r14dzgjnq9rjx_vqbc0000gn/T/ipykernel_20192/3758292361.py:3: DtypeWarning: Columns (1,18) have mixed types. Specify dtype option on import or set low_memory=False.\n",
      "  nyc_cab_df = pd.read_csv('~/Downloads/nyc_car_hire_data.csv')\n"
     ]
    }
   ],
   "source": [
    "# GET THE FULL DATA SET FROM \n",
    "#https://drive.google.com/file/d/0B28c493CP9GtRHFVM0U0SVI2Yms/view?usp=sharing\n",
    "nyc_cab_df = pd.read_csv('~/Downloads/nyc_car_hire_data.csv')"
   ]
  },
  {
   "cell_type": "code",
   "execution_count": 4,
   "metadata": {
    "collapsed": false,
    "jupyter": {
     "outputs_hidden": false
    }
   },
   "outputs": [
    {
     "data": {
      "text/plain": [
       "(1873671, 30)"
      ]
     },
     "execution_count": 4,
     "metadata": {},
     "output_type": "execute_result"
    }
   ],
   "source": [
    "nyc_cab_df.shape"
   ]
  },
  {
   "cell_type": "code",
   "execution_count": 5,
   "metadata": {
    "collapsed": false,
    "jupyter": {
     "outputs_hidden": false
    }
   },
   "outputs": [
    {
     "data": {
      "text/html": [
       "<div>\n",
       "<style scoped>\n",
       "    .dataframe tbody tr th:only-of-type {\n",
       "        vertical-align: middle;\n",
       "    }\n",
       "\n",
       "    .dataframe tbody tr th {\n",
       "        vertical-align: top;\n",
       "    }\n",
       "\n",
       "    .dataframe thead th {\n",
       "        text-align: right;\n",
       "    }\n",
       "</style>\n",
       "<table border=\"1\" class=\"dataframe\">\n",
       "  <thead>\n",
       "    <tr style=\"text-align: right;\">\n",
       "      <th></th>\n",
       "      <th>AWND</th>\n",
       "      <th>Base</th>\n",
       "      <th>Day</th>\n",
       "      <th>Dropoff_latitude</th>\n",
       "      <th>Dropoff_longitude</th>\n",
       "      <th>Ehail_fee</th>\n",
       "      <th>Extra</th>\n",
       "      <th>Fare_amount</th>\n",
       "      <th>Lpep_dropoff_datetime</th>\n",
       "      <th>MTA_tax</th>\n",
       "      <th>...</th>\n",
       "      <th>TMIN</th>\n",
       "      <th>Tip_amount</th>\n",
       "      <th>Tolls_amount</th>\n",
       "      <th>Total_amount</th>\n",
       "      <th>Trip_distance</th>\n",
       "      <th>Trip_type</th>\n",
       "      <th>Type</th>\n",
       "      <th>VendorID</th>\n",
       "      <th>lpep_pickup_datetime</th>\n",
       "      <th>Trip Length (min)</th>\n",
       "    </tr>\n",
       "  </thead>\n",
       "  <tbody>\n",
       "    <tr>\n",
       "      <th>0</th>\n",
       "      <td>4.7</td>\n",
       "      <td>B02512</td>\n",
       "      <td>1</td>\n",
       "      <td>NaN</td>\n",
       "      <td>NaN</td>\n",
       "      <td>NaN</td>\n",
       "      <td>NaN</td>\n",
       "      <td>33.863498</td>\n",
       "      <td>2014-04-01 00:24:00</td>\n",
       "      <td>NaN</td>\n",
       "      <td>...</td>\n",
       "      <td>39</td>\n",
       "      <td>NaN</td>\n",
       "      <td>NaN</td>\n",
       "      <td>NaN</td>\n",
       "      <td>4.083561</td>\n",
       "      <td>NaN</td>\n",
       "      <td>1</td>\n",
       "      <td>NaN</td>\n",
       "      <td>2014-04-01 00:11:00</td>\n",
       "      <td>13.0</td>\n",
       "    </tr>\n",
       "    <tr>\n",
       "      <th>1</th>\n",
       "      <td>4.7</td>\n",
       "      <td>B02512</td>\n",
       "      <td>1</td>\n",
       "      <td>NaN</td>\n",
       "      <td>NaN</td>\n",
       "      <td>NaN</td>\n",
       "      <td>NaN</td>\n",
       "      <td>19.022892</td>\n",
       "      <td>2014-04-01 00:29:00</td>\n",
       "      <td>NaN</td>\n",
       "      <td>...</td>\n",
       "      <td>39</td>\n",
       "      <td>NaN</td>\n",
       "      <td>NaN</td>\n",
       "      <td>NaN</td>\n",
       "      <td>3.605694</td>\n",
       "      <td>NaN</td>\n",
       "      <td>1</td>\n",
       "      <td>NaN</td>\n",
       "      <td>2014-04-01 00:17:00</td>\n",
       "      <td>12.0</td>\n",
       "    </tr>\n",
       "    <tr>\n",
       "      <th>2</th>\n",
       "      <td>4.7</td>\n",
       "      <td>B02512</td>\n",
       "      <td>1</td>\n",
       "      <td>NaN</td>\n",
       "      <td>NaN</td>\n",
       "      <td>NaN</td>\n",
       "      <td>NaN</td>\n",
       "      <td>25.498981</td>\n",
       "      <td>2014-04-01 00:34:00</td>\n",
       "      <td>NaN</td>\n",
       "      <td>...</td>\n",
       "      <td>39</td>\n",
       "      <td>NaN</td>\n",
       "      <td>NaN</td>\n",
       "      <td>NaN</td>\n",
       "      <td>4.221763</td>\n",
       "      <td>NaN</td>\n",
       "      <td>1</td>\n",
       "      <td>NaN</td>\n",
       "      <td>2014-04-01 00:21:00</td>\n",
       "      <td>13.0</td>\n",
       "    </tr>\n",
       "    <tr>\n",
       "      <th>3</th>\n",
       "      <td>4.7</td>\n",
       "      <td>B02512</td>\n",
       "      <td>1</td>\n",
       "      <td>NaN</td>\n",
       "      <td>NaN</td>\n",
       "      <td>NaN</td>\n",
       "      <td>NaN</td>\n",
       "      <td>28.024628</td>\n",
       "      <td>2014-04-01 00:39:00</td>\n",
       "      <td>NaN</td>\n",
       "      <td>...</td>\n",
       "      <td>39</td>\n",
       "      <td>NaN</td>\n",
       "      <td>NaN</td>\n",
       "      <td>NaN</td>\n",
       "      <td>2.955510</td>\n",
       "      <td>NaN</td>\n",
       "      <td>1</td>\n",
       "      <td>NaN</td>\n",
       "      <td>2014-04-01 00:28:00</td>\n",
       "      <td>11.0</td>\n",
       "    </tr>\n",
       "    <tr>\n",
       "      <th>4</th>\n",
       "      <td>4.7</td>\n",
       "      <td>B02512</td>\n",
       "      <td>1</td>\n",
       "      <td>NaN</td>\n",
       "      <td>NaN</td>\n",
       "      <td>NaN</td>\n",
       "      <td>NaN</td>\n",
       "      <td>12.083589</td>\n",
       "      <td>2014-04-01 00:40:00</td>\n",
       "      <td>NaN</td>\n",
       "      <td>...</td>\n",
       "      <td>39</td>\n",
       "      <td>NaN</td>\n",
       "      <td>NaN</td>\n",
       "      <td>NaN</td>\n",
       "      <td>1.922292</td>\n",
       "      <td>NaN</td>\n",
       "      <td>1</td>\n",
       "      <td>NaN</td>\n",
       "      <td>2014-04-01 00:33:00</td>\n",
       "      <td>7.0</td>\n",
       "    </tr>\n",
       "  </tbody>\n",
       "</table>\n",
       "<p>5 rows × 30 columns</p>\n",
       "</div>"
      ],
      "text/plain": [
       "   AWND    Base  Day  Dropoff_latitude  Dropoff_longitude  Ehail_fee  Extra  \\\n",
       "0   4.7  B02512    1               NaN                NaN        NaN    NaN   \n",
       "1   4.7  B02512    1               NaN                NaN        NaN    NaN   \n",
       "2   4.7  B02512    1               NaN                NaN        NaN    NaN   \n",
       "3   4.7  B02512    1               NaN                NaN        NaN    NaN   \n",
       "4   4.7  B02512    1               NaN                NaN        NaN    NaN   \n",
       "\n",
       "   Fare_amount Lpep_dropoff_datetime  MTA_tax  ...  TMIN  Tip_amount  \\\n",
       "0    33.863498   2014-04-01 00:24:00      NaN  ...    39         NaN   \n",
       "1    19.022892   2014-04-01 00:29:00      NaN  ...    39         NaN   \n",
       "2    25.498981   2014-04-01 00:34:00      NaN  ...    39         NaN   \n",
       "3    28.024628   2014-04-01 00:39:00      NaN  ...    39         NaN   \n",
       "4    12.083589   2014-04-01 00:40:00      NaN  ...    39         NaN   \n",
       "\n",
       "   Tolls_amount  Total_amount  Trip_distance  Trip_type  Type  VendorID  \\\n",
       "0           NaN           NaN       4.083561        NaN     1       NaN   \n",
       "1           NaN           NaN       3.605694        NaN     1       NaN   \n",
       "2           NaN           NaN       4.221763        NaN     1       NaN   \n",
       "3           NaN           NaN       2.955510        NaN     1       NaN   \n",
       "4           NaN           NaN       1.922292        NaN     1       NaN   \n",
       "\n",
       "  lpep_pickup_datetime  Trip Length (min)  \n",
       "0  2014-04-01 00:11:00               13.0  \n",
       "1  2014-04-01 00:17:00               12.0  \n",
       "2  2014-04-01 00:21:00               13.0  \n",
       "3  2014-04-01 00:28:00               11.0  \n",
       "4  2014-04-01 00:33:00                7.0  \n",
       "\n",
       "[5 rows x 30 columns]"
      ]
     },
     "execution_count": 5,
     "metadata": {},
     "output_type": "execute_result"
    }
   ],
   "source": [
    "nyc_cab_df.head()"
   ]
  },
  {
   "cell_type": "code",
   "execution_count": 6,
   "metadata": {},
   "outputs": [
    {
     "data": {
      "text/plain": [
       "AWND                     float64\n",
       "Base                      object\n",
       "Day                        int64\n",
       "Dropoff_latitude         float64\n",
       "Dropoff_longitude        float64\n",
       "Ehail_fee                float64\n",
       "Extra                    float64\n",
       "Fare_amount              float64\n",
       "Lpep_dropoff_datetime     object\n",
       "MTA_tax                  float64\n",
       "PRCP                     float64\n",
       "Passenger_count          float64\n",
       "Payment_type             float64\n",
       "Pickup_latitude          float64\n",
       "Pickup_longitude         float64\n",
       "RateCodeID               float64\n",
       "SNOW                     float64\n",
       "SNWD                     float64\n",
       "Store_and_fwd_flag        object\n",
       "TMAX                       int64\n",
       "TMIN                       int64\n",
       "Tip_amount               float64\n",
       "Tolls_amount             float64\n",
       "Total_amount             float64\n",
       "Trip_distance            float64\n",
       "Trip_type                float64\n",
       "Type                       int64\n",
       "VendorID                 float64\n",
       "lpep_pickup_datetime      object\n",
       "Trip Length (min)        float64\n",
       "dtype: object"
      ]
     },
     "execution_count": 6,
     "metadata": {},
     "output_type": "execute_result"
    }
   ],
   "source": [
    "nyc_cab_df.dtypes"
   ]
  },
  {
   "cell_type": "code",
   "execution_count": 7,
   "metadata": {
    "collapsed": false,
    "jupyter": {
     "outputs_hidden": false
    }
   },
   "outputs": [
    {
     "data": {
      "text/html": [
       "<div>\n",
       "<style scoped>\n",
       "    .dataframe tbody tr th:only-of-type {\n",
       "        vertical-align: middle;\n",
       "    }\n",
       "\n",
       "    .dataframe tbody tr th {\n",
       "        vertical-align: top;\n",
       "    }\n",
       "\n",
       "    .dataframe thead th {\n",
       "        text-align: right;\n",
       "    }\n",
       "</style>\n",
       "<table border=\"1\" class=\"dataframe\">\n",
       "  <thead>\n",
       "    <tr style=\"text-align: right;\">\n",
       "      <th></th>\n",
       "      <th>AWND</th>\n",
       "      <th>Day</th>\n",
       "      <th>Dropoff_latitude</th>\n",
       "      <th>Dropoff_longitude</th>\n",
       "      <th>Ehail_fee</th>\n",
       "      <th>Extra</th>\n",
       "      <th>Fare_amount</th>\n",
       "      <th>MTA_tax</th>\n",
       "      <th>PRCP</th>\n",
       "      <th>Passenger_count</th>\n",
       "      <th>...</th>\n",
       "      <th>TMAX</th>\n",
       "      <th>TMIN</th>\n",
       "      <th>Tip_amount</th>\n",
       "      <th>Tolls_amount</th>\n",
       "      <th>Total_amount</th>\n",
       "      <th>Trip_distance</th>\n",
       "      <th>Trip_type</th>\n",
       "      <th>Type</th>\n",
       "      <th>VendorID</th>\n",
       "      <th>Trip Length (min)</th>\n",
       "    </tr>\n",
       "  </thead>\n",
       "  <tbody>\n",
       "    <tr>\n",
       "      <th>count</th>\n",
       "      <td>1.873671e+06</td>\n",
       "      <td>1.873671e+06</td>\n",
       "      <td>1.309155e+06</td>\n",
       "      <td>1.309155e+06</td>\n",
       "      <td>0.0</td>\n",
       "      <td>1.309155e+06</td>\n",
       "      <td>1.873671e+06</td>\n",
       "      <td>1.309155e+06</td>\n",
       "      <td>1.873671e+06</td>\n",
       "      <td>1.309155e+06</td>\n",
       "      <td>...</td>\n",
       "      <td>1.873671e+06</td>\n",
       "      <td>1.873671e+06</td>\n",
       "      <td>1.309155e+06</td>\n",
       "      <td>1.309155e+06</td>\n",
       "      <td>1.309155e+06</td>\n",
       "      <td>1.873671e+06</td>\n",
       "      <td>1.225061e+06</td>\n",
       "      <td>1.873671e+06</td>\n",
       "      <td>1.309155e+06</td>\n",
       "      <td>1.873671e+06</td>\n",
       "    </tr>\n",
       "    <tr>\n",
       "      <th>mean</th>\n",
       "      <td>6.349472e+00</td>\n",
       "      <td>1.573272e+01</td>\n",
       "      <td>4.069035e+01</td>\n",
       "      <td>-7.380999e+01</td>\n",
       "      <td>NaN</td>\n",
       "      <td>3.718944e-01</td>\n",
       "      <td>1.480038e+01</td>\n",
       "      <td>4.885869e-01</td>\n",
       "      <td>3.277113e-01</td>\n",
       "      <td>1.424879e+00</td>\n",
       "      <td>...</td>\n",
       "      <td>6.094607e+01</td>\n",
       "      <td>4.334624e+01</td>\n",
       "      <td>1.013024e+00</td>\n",
       "      <td>1.069806e-01</td>\n",
       "      <td>1.432070e+01</td>\n",
       "      <td>2.917737e+00</td>\n",
       "      <td>1.020388e+00</td>\n",
       "      <td>3.012888e-01</td>\n",
       "      <td>1.781165e+00</td>\n",
       "      <td>1.132344e+01</td>\n",
       "    </tr>\n",
       "    <tr>\n",
       "      <th>std</th>\n",
       "      <td>1.782350e+00</td>\n",
       "      <td>8.786914e+00</td>\n",
       "      <td>1.653301e+00</td>\n",
       "      <td>2.997829e+00</td>\n",
       "      <td>NaN</td>\n",
       "      <td>3.705219e-01</td>\n",
       "      <td>9.899925e+00</td>\n",
       "      <td>7.478954e-02</td>\n",
       "      <td>1.033659e+00</td>\n",
       "      <td>1.129275e+00</td>\n",
       "      <td>...</td>\n",
       "      <td>8.434375e+00</td>\n",
       "      <td>6.049009e+00</td>\n",
       "      <td>2.219229e+00</td>\n",
       "      <td>8.479594e-01</td>\n",
       "      <td>1.138924e+01</td>\n",
       "      <td>2.529476e+00</td>\n",
       "      <td>1.413220e-01</td>\n",
       "      <td>4.588180e-01</td>\n",
       "      <td>4.134567e-01</td>\n",
       "      <td>7.875921e+00</td>\n",
       "    </tr>\n",
       "    <tr>\n",
       "      <th>min</th>\n",
       "      <td>2.000000e+00</td>\n",
       "      <td>1.000000e+00</td>\n",
       "      <td>0.000000e+00</td>\n",
       "      <td>-1.219265e+02</td>\n",
       "      <td>NaN</td>\n",
       "      <td>0.000000e+00</td>\n",
       "      <td>0.000000e+00</td>\n",
       "      <td>0.000000e+00</td>\n",
       "      <td>0.000000e+00</td>\n",
       "      <td>0.000000e+00</td>\n",
       "      <td>...</td>\n",
       "      <td>4.700000e+01</td>\n",
       "      <td>3.100000e+01</td>\n",
       "      <td>0.000000e+00</td>\n",
       "      <td>0.000000e+00</td>\n",
       "      <td>0.000000e+00</td>\n",
       "      <td>-3.483963e-01</td>\n",
       "      <td>1.000000e+00</td>\n",
       "      <td>0.000000e+00</td>\n",
       "      <td>1.000000e+00</td>\n",
       "      <td>0.000000e+00</td>\n",
       "    </tr>\n",
       "    <tr>\n",
       "      <th>25%</th>\n",
       "      <td>4.900000e+00</td>\n",
       "      <td>8.000000e+00</td>\n",
       "      <td>4.071491e+01</td>\n",
       "      <td>-7.396558e+01</td>\n",
       "      <td>NaN</td>\n",
       "      <td>0.000000e+00</td>\n",
       "      <td>7.500000e+00</td>\n",
       "      <td>5.000000e-01</td>\n",
       "      <td>0.000000e+00</td>\n",
       "      <td>1.000000e+00</td>\n",
       "      <td>...</td>\n",
       "      <td>5.400000e+01</td>\n",
       "      <td>4.000000e+01</td>\n",
       "      <td>0.000000e+00</td>\n",
       "      <td>0.000000e+00</td>\n",
       "      <td>7.500000e+00</td>\n",
       "      <td>1.340000e+00</td>\n",
       "      <td>1.000000e+00</td>\n",
       "      <td>0.000000e+00</td>\n",
       "      <td>2.000000e+00</td>\n",
       "      <td>6.000000e+00</td>\n",
       "    </tr>\n",
       "    <tr>\n",
       "      <th>50%</th>\n",
       "      <td>6.000000e+00</td>\n",
       "      <td>1.600000e+01</td>\n",
       "      <td>4.075613e+01</td>\n",
       "      <td>-7.394200e+01</td>\n",
       "      <td>NaN</td>\n",
       "      <td>5.000000e-01</td>\n",
       "      <td>1.300000e+01</td>\n",
       "      <td>5.000000e-01</td>\n",
       "      <td>0.000000e+00</td>\n",
       "      <td>1.000000e+00</td>\n",
       "      <td>...</td>\n",
       "      <td>6.100000e+01</td>\n",
       "      <td>4.300000e+01</td>\n",
       "      <td>0.000000e+00</td>\n",
       "      <td>0.000000e+00</td>\n",
       "      <td>1.100000e+01</td>\n",
       "      <td>2.330000e+00</td>\n",
       "      <td>1.000000e+00</td>\n",
       "      <td>0.000000e+00</td>\n",
       "      <td>2.000000e+00</td>\n",
       "      <td>1.000000e+01</td>\n",
       "    </tr>\n",
       "    <tr>\n",
       "      <th>75%</th>\n",
       "      <td>8.300000e+00</td>\n",
       "      <td>2.400000e+01</td>\n",
       "      <td>4.080378e+01</td>\n",
       "      <td>-7.390412e+01</td>\n",
       "      <td>NaN</td>\n",
       "      <td>5.000000e-01</td>\n",
       "      <td>2.037272e+01</td>\n",
       "      <td>5.000000e-01</td>\n",
       "      <td>7.000000e-02</td>\n",
       "      <td>1.000000e+00</td>\n",
       "      <td>...</td>\n",
       "      <td>6.700000e+01</td>\n",
       "      <td>4.600000e+01</td>\n",
       "      <td>1.500000e+00</td>\n",
       "      <td>0.000000e+00</td>\n",
       "      <td>1.750000e+01</td>\n",
       "      <td>3.640000e+00</td>\n",
       "      <td>1.000000e+00</td>\n",
       "      <td>1.000000e+00</td>\n",
       "      <td>2.000000e+00</td>\n",
       "      <td>1.400000e+01</td>\n",
       "    </tr>\n",
       "    <tr>\n",
       "      <th>max</th>\n",
       "      <td>9.400000e+00</td>\n",
       "      <td>3.000000e+01</td>\n",
       "      <td>4.289498e+01</td>\n",
       "      <td>0.000000e+00</td>\n",
       "      <td>NaN</td>\n",
       "      <td>3.000000e+01</td>\n",
       "      <td>3.351000e+03</td>\n",
       "      <td>1.500000e+00</td>\n",
       "      <td>4.970000e+00</td>\n",
       "      <td>9.000000e+00</td>\n",
       "      <td>...</td>\n",
       "      <td>7.700000e+01</td>\n",
       "      <td>5.900000e+01</td>\n",
       "      <td>5.000000e+02</td>\n",
       "      <td>1.500000e+02</td>\n",
       "      <td>3.352500e+03</td>\n",
       "      <td>2.313600e+02</td>\n",
       "      <td>2.000000e+00</td>\n",
       "      <td>1.000000e+00</td>\n",
       "      <td>2.000000e+00</td>\n",
       "      <td>5.900000e+01</td>\n",
       "    </tr>\n",
       "  </tbody>\n",
       "</table>\n",
       "<p>8 rows × 26 columns</p>\n",
       "</div>"
      ],
      "text/plain": [
       "               AWND           Day  Dropoff_latitude  Dropoff_longitude  \\\n",
       "count  1.873671e+06  1.873671e+06      1.309155e+06       1.309155e+06   \n",
       "mean   6.349472e+00  1.573272e+01      4.069035e+01      -7.380999e+01   \n",
       "std    1.782350e+00  8.786914e+00      1.653301e+00       2.997829e+00   \n",
       "min    2.000000e+00  1.000000e+00      0.000000e+00      -1.219265e+02   \n",
       "25%    4.900000e+00  8.000000e+00      4.071491e+01      -7.396558e+01   \n",
       "50%    6.000000e+00  1.600000e+01      4.075613e+01      -7.394200e+01   \n",
       "75%    8.300000e+00  2.400000e+01      4.080378e+01      -7.390412e+01   \n",
       "max    9.400000e+00  3.000000e+01      4.289498e+01       0.000000e+00   \n",
       "\n",
       "       Ehail_fee         Extra   Fare_amount       MTA_tax          PRCP  \\\n",
       "count        0.0  1.309155e+06  1.873671e+06  1.309155e+06  1.873671e+06   \n",
       "mean         NaN  3.718944e-01  1.480038e+01  4.885869e-01  3.277113e-01   \n",
       "std          NaN  3.705219e-01  9.899925e+00  7.478954e-02  1.033659e+00   \n",
       "min          NaN  0.000000e+00  0.000000e+00  0.000000e+00  0.000000e+00   \n",
       "25%          NaN  0.000000e+00  7.500000e+00  5.000000e-01  0.000000e+00   \n",
       "50%          NaN  5.000000e-01  1.300000e+01  5.000000e-01  0.000000e+00   \n",
       "75%          NaN  5.000000e-01  2.037272e+01  5.000000e-01  7.000000e-02   \n",
       "max          NaN  3.000000e+01  3.351000e+03  1.500000e+00  4.970000e+00   \n",
       "\n",
       "       Passenger_count  ...          TMAX          TMIN    Tip_amount  \\\n",
       "count     1.309155e+06  ...  1.873671e+06  1.873671e+06  1.309155e+06   \n",
       "mean      1.424879e+00  ...  6.094607e+01  4.334624e+01  1.013024e+00   \n",
       "std       1.129275e+00  ...  8.434375e+00  6.049009e+00  2.219229e+00   \n",
       "min       0.000000e+00  ...  4.700000e+01  3.100000e+01  0.000000e+00   \n",
       "25%       1.000000e+00  ...  5.400000e+01  4.000000e+01  0.000000e+00   \n",
       "50%       1.000000e+00  ...  6.100000e+01  4.300000e+01  0.000000e+00   \n",
       "75%       1.000000e+00  ...  6.700000e+01  4.600000e+01  1.500000e+00   \n",
       "max       9.000000e+00  ...  7.700000e+01  5.900000e+01  5.000000e+02   \n",
       "\n",
       "       Tolls_amount  Total_amount  Trip_distance     Trip_type          Type  \\\n",
       "count  1.309155e+06  1.309155e+06   1.873671e+06  1.225061e+06  1.873671e+06   \n",
       "mean   1.069806e-01  1.432070e+01   2.917737e+00  1.020388e+00  3.012888e-01   \n",
       "std    8.479594e-01  1.138924e+01   2.529476e+00  1.413220e-01  4.588180e-01   \n",
       "min    0.000000e+00  0.000000e+00  -3.483963e-01  1.000000e+00  0.000000e+00   \n",
       "25%    0.000000e+00  7.500000e+00   1.340000e+00  1.000000e+00  0.000000e+00   \n",
       "50%    0.000000e+00  1.100000e+01   2.330000e+00  1.000000e+00  0.000000e+00   \n",
       "75%    0.000000e+00  1.750000e+01   3.640000e+00  1.000000e+00  1.000000e+00   \n",
       "max    1.500000e+02  3.352500e+03   2.313600e+02  2.000000e+00  1.000000e+00   \n",
       "\n",
       "           VendorID  Trip Length (min)  \n",
       "count  1.309155e+06       1.873671e+06  \n",
       "mean   1.781165e+00       1.132344e+01  \n",
       "std    4.134567e-01       7.875921e+00  \n",
       "min    1.000000e+00       0.000000e+00  \n",
       "25%    2.000000e+00       6.000000e+00  \n",
       "50%    2.000000e+00       1.000000e+01  \n",
       "75%    2.000000e+00       1.400000e+01  \n",
       "max    2.000000e+00       5.900000e+01  \n",
       "\n",
       "[8 rows x 26 columns]"
      ]
     },
     "execution_count": 7,
     "metadata": {},
     "output_type": "execute_result"
    }
   ],
   "source": [
    "nyc_cab_df.describe()"
   ]
  },
  {
   "cell_type": "code",
   "execution_count": 8,
   "metadata": {
    "collapsed": false,
    "jupyter": {
     "outputs_hidden": false
    }
   },
   "outputs": [
    {
     "data": {
      "text/plain": [
       "<Axes: >"
      ]
     },
     "execution_count": 8,
     "metadata": {},
     "output_type": "execute_result"
    },
    {
     "data": {
      "image/png": "[encoded data removed]",
      "text/plain": [
       "<Figure size 640x480 with 1 Axes>"
      ]
     },
     "metadata": {},
     "output_type": "display_data"
    }
   ],
   "source": [
    "nyc_cab_df.Passenger_count.hist()"
   ]
  },
  {
   "cell_type": "code",
   "execution_count": 9,
   "metadata": {
    "collapsed": false,
    "jupyter": {
     "outputs_hidden": false
    }
   },
   "outputs": [
    {
     "data": {
      "text/plain": [
       "Index(['AWND', 'Base', 'Day', 'Dropoff_latitude', 'Dropoff_longitude',\n",
       "       'Ehail_fee', 'Extra', 'Fare_amount', 'Lpep_dropoff_datetime', 'MTA_tax',\n",
       "       'PRCP', 'Passenger_count', 'Payment_type', 'Pickup_latitude',\n",
       "       'Pickup_longitude', 'RateCodeID', 'SNOW', 'SNWD', 'Store_and_fwd_flag',\n",
       "       'TMAX', 'TMIN', 'Tip_amount', 'Tolls_amount', 'Total_amount',\n",
       "       'Trip_distance', 'Trip_type', 'Type', 'VendorID',\n",
       "       'lpep_pickup_datetime', 'Trip Length (min)'],\n",
       "      dtype='object')"
      ]
     },
     "execution_count": 9,
     "metadata": {},
     "output_type": "execute_result"
    }
   ],
   "source": [
    "nyc_cab_df.columns"
   ]
  },
  {
   "cell_type": "code",
   "execution_count": 10,
   "metadata": {
    "collapsed": false,
    "jupyter": {
     "outputs_hidden": false
    }
   },
   "outputs": [],
   "source": [
    "nyc_cab_sample = nyc_cab_df.sample(n=1000, random_state=6)\n",
    "fares = nyc_cab_sample['Fare_amount'].values\n",
    "trip_lengths = nyc_cab_sample[['Trip Length (min)']].values\n"
   ]
  },
  {
   "cell_type": "code",
   "execution_count": 11,
   "metadata": {
    "collapsed": false,
    "jupyter": {
     "outputs_hidden": false
    }
   },
   "outputs": [
    {
     "data": {
      "text/plain": [
       "Text(0.5, 1.0, 'NYC Care Hire Data:\\n Trip Duration vs Fare Scatter Plot')"
      ]
     },
     "execution_count": 11,
     "metadata": {},
     "output_type": "execute_result"
    },
    {
     "data": {
      "image/png": "[encoded data removed]",
      "text/plain": [
       "<Figure size 1000x700 with 1 Axes>"
      ]
     },
     "metadata": {},
     "output_type": "display_data"
    }
   ],
   "source": [
    "fig, ax = plt.subplots(1, 1, figsize=(10, 7))\n",
    "\n",
    "\n",
    "ax.scatter(trip_lengths, fares, color='gray', alpha=0.1, s=20)\n",
    "\n",
    "ax.set_xlabel('Trip Length (min)')\n",
    "ax.set_ylabel('Trip Fare ($)')\n",
    "ax.set_title('NYC Care Hire Data:\\n Trip Duration vs Fare Scatter Plot')\n",
    "\n"
   ]
  },
  {
   "cell_type": "markdown",
   "metadata": {},
   "source": [
    "## Step #2: Modeling the Data"
   ]
  },
  {
   "cell_type": "code",
   "execution_count": 12,
   "metadata": {
    "collapsed": false,
    "jupyter": {
     "outputs_hidden": false
    }
   },
   "outputs": [
    {
     "data": {
      "text/plain": [
       "(1000, 1)"
      ]
     },
     "execution_count": 12,
     "metadata": {},
     "output_type": "execute_result"
    }
   ],
   "source": [
    "#nyc_cab_sample = nyc_cab_df.sample(n=1000, random_state=1)\n",
    "\n",
    "y = nyc_cab_sample['Fare_amount'].values\n",
    "X = nyc_cab_sample[['Trip Length (min)']].values\n",
    "X.shape"
   ]
  },
  {
   "cell_type": "code",
   "execution_count": 15,
   "metadata": {
    "collapsed": false,
    "jupyter": {
     "outputs_hidden": false
    }
   },
   "outputs": [
    {
     "name": "stdout",
     "output_type": "stream",
     "text": [
      "The estimated equation of the regression line is: 6.585636707686248 + 0.7331691319407946 * x\n"
     ]
    }
   ],
   "source": [
    "regression = LinearRegression(fit_intercept=True)\n",
    "regression.fit(X, y)\n",
    "\n",
    "\n",
    "\n",
    "# this is the estimated statistical model (f_hat) using the predicted coefficients \n",
    "regression_line = lambda x: regression.intercept_ + regression.coef_ * x\n",
    "print('The estimated equation of the regression line is: {} + {} * x'.format(regression.intercept_, regression.coef_[0]))"
   ]
  },
  {
   "cell_type": "markdown",
   "metadata": {},
   "source": [
    "In sklearn you can predict by using the `predict` method on the regression object as well, which will do the same thing as the `regression_line` function above."
   ]
  },
  {
   "cell_type": "code",
   "execution_count": 17,
   "metadata": {},
   "outputs": [
    {
     "data": {
      "text/plain": [
       "array([15.38366629,  8.7851441 , 15.38366629, 40.31141678, 13.1841589 ,\n",
       "       11.71782063,  8.05197497, 13.1841589 , 15.38366629, 16.85000455,\n",
       "       10.9846515 , 20.51585021, 11.71782063, 18.31634282, 10.25148237,\n",
       "        8.7851441 , 18.31634282,  9.51831324, 18.31634282, 10.9846515 ,\n",
       "       16.11683542, 17.58317369, 17.58317369, 14.65049716, 11.71782063,\n",
       "       30.04704893, 15.38366629, 10.25148237, 13.91732803, 16.85000455,\n",
       "       26.38120327, 22.71535761, 31.51338719, 15.38366629,  8.05197497,\n",
       "       32.97972546, 13.91732803, 27.84754153, 18.31634282,  9.51831324,\n",
       "       13.91732803, 15.38366629, 13.91732803, 13.1841589 , 13.91732803,\n",
       "       19.04951195, 15.38366629, 10.25148237, 16.11683542, 17.58317369,\n",
       "       16.85000455, 10.25148237, 10.9846515 , 12.45098976,  7.31880584,\n",
       "       17.58317369, 12.45098976, 20.51585021, 13.91732803, 14.65049716,\n",
       "       12.45098976, 13.91732803, 23.44852674, 10.9846515 , 25.64803414,\n",
       "        9.51831324, 16.11683542, 10.9846515 , 14.65049716, 22.71535761,\n",
       "       14.65049716,  8.05197497,  8.7851441 , 13.1841589 , 13.1841589 ,\n",
       "       10.25148237, 13.1841589 ,  8.7851441 , 11.71782063, 13.1841589 ,\n",
       "       10.9846515 ,  7.31880584, 18.31634282, 23.44852674, 22.71535761,\n",
       "       13.1841589 , 10.25148237, 11.71782063, 13.1841589 , 16.11683542,\n",
       "       19.78268108, 14.65049716,  9.51831324, 12.45098976,  9.51831324,\n",
       "       10.25148237, 11.71782063,  8.05197497, 15.38366629, 24.18169587,\n",
       "       48.37627723, 10.9846515 , 15.38366629, 13.1841589 ,  9.51831324,\n",
       "       15.38366629, 10.9846515 , 12.45098976, 27.1143724 , 16.85000455,\n",
       "       15.38366629,  8.7851441 ,  9.51831324, 27.84754153, 13.91732803,\n",
       "       14.65049716, 14.65049716, 17.58317369, 10.9846515 ,  8.7851441 ,\n",
       "       11.71782063, 15.38366629, 17.58317369,  9.51831324, 19.78268108,\n",
       "       12.45098976, 18.31634282, 12.45098976, 22.71535761, 27.84754153,\n",
       "        9.51831324, 10.9846515 , 10.25148237, 13.91732803, 24.91486501,\n",
       "       49.10944636,  9.51831324,  9.51831324, 11.71782063, 29.3138798 ,\n",
       "       16.85000455, 18.31634282,  9.51831324, 21.24901935, 16.11683542,\n",
       "       10.9846515 ,  9.51831324, 11.71782063,  9.51831324, 10.25148237,\n",
       "       17.58317369, 17.58317369, 17.58317369, 12.45098976, 10.9846515 ,\n",
       "        7.31880584, 19.78268108, 11.71782063, 23.44852674,  9.51831324,\n",
       "       16.11683542, 30.04704893, 11.71782063,  9.51831324, 13.91732803,\n",
       "       11.71782063, 27.84754153,  6.58563671, 13.1841589 , 10.25148237,\n",
       "       14.65049716,  9.51831324, 20.51585021, 14.65049716, 12.45098976,\n",
       "       15.38366629, 11.71782063, 21.98218848, 12.45098976, 19.78268108,\n",
       "       10.9846515 ,  7.31880584, 19.04951195, 12.45098976, 10.9846515 ,\n",
       "       30.78021806, 15.38366629, 19.78268108, 10.25148237, 11.71782063,\n",
       "       11.71782063, 19.78268108, 13.1841589 , 19.04951195, 38.11190938,\n",
       "       18.31634282, 18.31634282, 19.04951195, 17.58317369, 13.1841589 ,\n",
       "       16.11683542, 10.25148237, 15.38366629, 16.11683542, 19.04951195,\n",
       "       10.9846515 , 14.65049716, 19.78268108, 12.45098976, 15.38366629,\n",
       "        8.05197497, 16.85000455, 29.3138798 , 10.9846515 , 14.65049716,\n",
       "       12.45098976,  6.58563671,  7.31880584,  8.7851441 , 16.11683542,\n",
       "        9.51831324, 15.38366629, 17.58317369, 22.71535761, 10.25148237,\n",
       "       13.1841589 ,  9.51831324, 12.45098976, 18.31634282, 18.31634282,\n",
       "       15.38366629, 15.38366629, 12.45098976,  9.51831324, 19.78268108,\n",
       "       16.85000455, 15.38366629, 11.71782063, 11.71782063,  8.7851441 ,\n",
       "       10.25148237, 11.71782063, 19.04951195, 20.51585021, 11.71782063,\n",
       "       11.71782063, 14.65049716, 29.3138798 , 24.91486501, 16.85000455,\n",
       "       12.45098976, 17.58317369, 10.9846515 , 13.1841589 , 16.11683542,\n",
       "       10.9846515 , 13.91732803, 13.1841589 ,  9.51831324, 19.04951195,\n",
       "       16.11683542, 16.11683542, 24.91486501, 12.45098976, 16.11683542,\n",
       "       43.2440933 ,  8.7851441 , 35.17923285, 10.9846515 , 23.44852674,\n",
       "       11.71782063, 19.04951195, 19.78268108, 11.71782063, 29.3138798 ,\n",
       "       14.65049716, 13.1841589 , 17.58317369,  8.05197497, 13.1841589 ,\n",
       "       11.71782063, 15.38366629, 41.04458591, 13.91732803, 22.71535761,\n",
       "       10.9846515 ,  6.58563671, 10.9846515 ,  8.7851441 , 25.64803414,\n",
       "       40.31141678, 11.71782063, 11.71782063, 35.17923285, 15.38366629,\n",
       "       15.38366629, 13.1841589 ,  9.51831324, 15.38366629,  9.51831324,\n",
       "       17.58317369, 11.71782063,  8.05197497, 10.25148237, 16.11683542,\n",
       "        9.51831324, 14.65049716, 14.65049716, 10.25148237, 11.71782063,\n",
       "       20.51585021, 16.11683542, 15.38366629, 21.98218848, 12.45098976,\n",
       "       17.58317369, 26.38120327, 10.9846515 ,  8.7851441 , 11.71782063,\n",
       "        8.05197497, 13.91732803, 15.38366629, 10.9846515 , 32.97972546,\n",
       "       13.91732803,  8.05197497,  9.51831324, 30.78021806, 12.45098976,\n",
       "       13.1841589 , 19.04951195, 11.71782063, 13.1841589 , 27.84754153,\n",
       "       10.9846515 ,  9.51831324, 16.85000455, 14.65049716, 12.45098976,\n",
       "       19.04951195, 14.65049716, 13.1841589 , 11.71782063, 16.11683542,\n",
       "       16.85000455, 16.11683542, 13.1841589 ,  9.51831324, 16.11683542,\n",
       "        8.7851441 , 16.85000455, 11.71782063, 10.9846515 , 18.31634282,\n",
       "        8.7851441 , 18.31634282, 10.25148237, 17.58317369, 10.9846515 ,\n",
       "       35.17923285, 16.11683542, 13.1841589 , 16.85000455, 11.71782063,\n",
       "       13.91732803,  8.7851441 , 13.91732803, 10.25148237, 13.1841589 ,\n",
       "        9.51831324, 16.85000455, 16.85000455, 11.71782063, 16.85000455,\n",
       "        9.51831324, 15.38366629,  8.05197497, 13.91732803, 10.9846515 ,\n",
       "       11.71782063, 10.9846515 , 12.45098976, 11.71782063, 12.45098976,\n",
       "       15.38366629, 34.44606372, 18.31634282, 32.24655633, 15.38366629,\n",
       "       13.91732803, 10.25148237,  9.51831324, 13.91732803, 16.85000455,\n",
       "       19.04951195, 16.11683542, 13.1841589 , 18.31634282, 19.78268108,\n",
       "       13.1841589 , 13.91732803, 14.65049716, 18.31634282,  9.51831324,\n",
       "        8.7851441 ,  8.7851441 , 18.31634282, 16.11683542, 17.58317369,\n",
       "       12.45098976, 13.91732803, 15.38366629, 26.38120327,  7.31880584,\n",
       "       22.71535761, 16.85000455, 13.1841589 , 16.85000455, 11.71782063,\n",
       "       19.78268108, 31.51338719, 13.91732803, 13.1841589 , 10.25148237,\n",
       "       11.71782063, 10.25148237, 13.1841589 , 43.2440933 , 18.31634282,\n",
       "       16.11683542, 14.65049716,  9.51831324, 10.9846515 , 14.65049716,\n",
       "       13.91732803, 11.71782063, 11.71782063, 22.71535761, 15.38366629,\n",
       "       13.91732803, 12.45098976, 13.1841589 , 13.1841589 , 13.91732803,\n",
       "        6.58563671, 13.91732803, 13.1841589 , 13.1841589 , 35.91240199,\n",
       "       19.04951195, 13.91732803, 11.71782063, 21.24901935, 10.25148237,\n",
       "       20.51585021, 13.1841589 , 19.78268108, 13.91732803,  8.7851441 ,\n",
       "       12.45098976, 11.71782063, 25.64803414, 13.1841589 , 20.51585021,\n",
       "       13.91732803, 13.1841589 , 29.3138798 ,  9.51831324, 13.1841589 ,\n",
       "       10.9846515 , 24.18169587, 16.85000455, 14.65049716, 10.25148237,\n",
       "       13.1841589 ,  9.51831324, 10.9846515 , 10.9846515 , 19.78268108,\n",
       "       12.45098976, 14.65049716, 12.45098976,  9.51831324, 19.78268108,\n",
       "       16.85000455, 10.25148237, 11.71782063, 13.91732803, 17.58317369,\n",
       "       13.91732803, 13.91732803, 10.9846515 , 12.45098976, 24.18169587,\n",
       "        6.58563671, 13.91732803, 18.31634282, 11.71782063, 21.98218848,\n",
       "       15.38366629, 13.91732803, 11.71782063, 19.78268108, 19.78268108,\n",
       "       10.25148237, 16.11683542, 20.51585021, 11.71782063, 12.45098976,\n",
       "        8.05197497, 11.71782063, 13.91732803, 14.65049716, 12.45098976,\n",
       "       13.1841589 , 14.65049716, 10.9846515 , 13.1841589 , 13.1841589 ,\n",
       "       16.85000455, 10.9846515 ,  6.58563671, 12.45098976, 16.11683542,\n",
       "       10.25148237,  7.31880584, 16.85000455, 10.9846515 , 12.45098976,\n",
       "       12.45098976,  9.51831324, 11.71782063, 10.25148237,  8.7851441 ,\n",
       "       10.25148237, 18.31634282, 15.38366629,  6.58563671, 18.31634282,\n",
       "       12.45098976, 14.65049716, 13.91732803,  9.51831324, 16.11683542,\n",
       "       12.45098976, 35.91240199, 13.91732803, 17.58317369, 13.1841589 ,\n",
       "       14.65049716, 12.45098976, 11.71782063, 24.91486501, 13.1841589 ,\n",
       "       16.11683542, 16.85000455, 14.65049716, 16.85000455, 12.45098976,\n",
       "       12.45098976, 19.04951195, 28.58071067, 16.11683542, 21.98218848,\n",
       "       21.98218848, 13.91732803, 15.38366629, 35.91240199, 24.18169587,\n",
       "       13.1841589 , 18.31634282, 19.78268108, 11.71782063, 16.85000455,\n",
       "       11.71782063, 14.65049716, 10.9846515 , 14.65049716, 15.38366629,\n",
       "       29.3138798 , 16.11683542,  9.51831324, 18.31634282, 16.85000455,\n",
       "       13.1841589 , 40.31141678, 10.25148237,  9.51831324, 15.38366629,\n",
       "       17.58317369,  8.05197497, 13.1841589 , 18.31634282, 13.1841589 ,\n",
       "        9.51831324,  7.31880584, 14.65049716, 26.38120327, 18.31634282,\n",
       "       10.25148237, 10.9846515 , 12.45098976,  9.51831324, 16.11683542,\n",
       "       18.31634282, 10.25148237,  9.51831324, 15.38366629, 15.38366629,\n",
       "       14.65049716,  8.7851441 , 10.9846515 , 14.65049716, 10.9846515 ,\n",
       "       13.91732803, 17.58317369, 13.1841589 , 24.18169587,  9.51831324,\n",
       "       12.45098976, 16.11683542,  8.7851441 , 11.71782063, 13.1841589 ,\n",
       "       12.45098976, 11.71782063, 11.71782063, 10.25148237, 16.11683542,\n",
       "        9.51831324,  7.31880584, 10.9846515 , 10.9846515 , 13.91732803,\n",
       "       16.85000455, 13.91732803, 10.9846515 , 15.38366629, 10.9846515 ,\n",
       "       10.9846515 , 17.58317369, 14.65049716, 19.04951195, 13.91732803,\n",
       "       18.31634282, 13.1841589 ,  9.51831324, 19.78268108, 11.71782063,\n",
       "       22.71535761, 16.11683542, 18.31634282, 17.58317369, 10.25148237,\n",
       "       13.91732803, 10.9846515 , 13.1841589 , 16.85000455, 24.91486501,\n",
       "        6.58563671, 10.9846515 , 15.38366629, 11.71782063, 10.9846515 ,\n",
       "       10.25148237, 11.71782063, 19.04951195,  9.51831324,  8.7851441 ,\n",
       "       15.38366629, 16.11683542, 13.1841589 , 18.31634282, 18.31634282,\n",
       "       13.1841589 , 10.25148237, 11.71782063, 18.31634282, 13.1841589 ,\n",
       "       13.1841589 , 13.1841589 , 16.11683542, 15.38366629, 10.9846515 ,\n",
       "       12.45098976, 12.45098976, 30.78021806, 13.1841589 , 19.04951195,\n",
       "       17.58317369, 10.9846515 , 10.9846515 , 11.71782063, 17.58317369,\n",
       "       11.71782063, 13.1841589 ,  6.58563671,  7.31880584,  9.51831324,\n",
       "       14.65049716, 18.31634282, 11.71782063, 13.91732803, 14.65049716,\n",
       "       21.98218848, 21.98218848, 16.85000455, 46.17676983, 19.78268108,\n",
       "       14.65049716,  8.7851441 ,  9.51831324, 11.71782063, 13.91732803,\n",
       "       13.1841589 , 15.38366629, 13.1841589 , 13.1841589 , 39.57824765,\n",
       "       12.45098976, 16.85000455, 32.97972546, 13.1841589 , 14.65049716,\n",
       "       12.45098976, 15.38366629, 15.38366629, 10.9846515 , 22.71535761,\n",
       "       20.51585021, 18.31634282, 22.71535761, 10.25148237,  9.51831324,\n",
       "       11.71782063, 15.38366629, 16.11683542, 14.65049716,  9.51831324,\n",
       "       26.38120327,  6.58563671, 12.45098976, 14.65049716, 12.45098976,\n",
       "       16.11683542, 11.71782063, 24.91486501, 13.1841589 , 24.91486501,\n",
       "       10.25148237,  9.51831324, 25.64803414, 25.64803414, 17.58317369,\n",
       "       26.38120327, 19.04951195, 17.58317369,  9.51831324, 19.04951195,\n",
       "       16.11683542, 14.65049716, 15.38366629,  8.7851441 , 10.9846515 ,\n",
       "       31.51338719,  8.05197497, 16.11683542, 20.51585021, 27.84754153,\n",
       "       29.3138798 , 12.45098976, 14.65049716,  6.58563671, 18.31634282,\n",
       "       10.25148237,  9.51831324, 12.45098976, 13.91732803, 13.91732803,\n",
       "       16.85000455, 17.58317369, 13.1841589 , 14.65049716, 13.91732803,\n",
       "       11.71782063, 10.25148237, 16.85000455, 29.3138798 , 31.51338719,\n",
       "       13.91732803, 24.91486501, 15.38366629, 19.04951195, 21.98218848,\n",
       "       11.71782063, 10.25148237, 13.1841589 , 16.11683542, 10.25148237,\n",
       "       13.91732803, 10.9846515 , 12.45098976, 12.45098976, 19.04951195,\n",
       "        8.05197497, 15.38366629, 13.1841589 , 13.1841589 , 14.65049716,\n",
       "       13.91732803, 11.71782063, 10.9846515 , 19.78268108, 13.91732803,\n",
       "        9.51831324, 10.25148237,  9.51831324,  6.58563671, 14.65049716,\n",
       "        8.05197497, 11.71782063, 16.11683542, 13.1841589 , 17.58317369,\n",
       "        8.7851441 , 10.9846515 , 20.51585021, 15.38366629, 13.1841589 ,\n",
       "       45.4436007 , 16.85000455, 13.1841589 , 21.98218848, 13.1841589 ,\n",
       "       14.65049716, 14.65049716, 11.71782063, 18.31634282, 26.38120327,\n",
       "       23.44852674,  8.05197497, 34.44606372, 13.91732803,  8.7851441 ,\n",
       "       10.25148237, 13.1841589 ,  9.51831324, 14.65049716, 13.91732803,\n",
       "       12.45098976, 12.45098976, 16.85000455, 22.71535761, 10.25148237,\n",
       "       12.45098976, 10.25148237, 13.1841589 ,  9.51831324, 13.91732803,\n",
       "        8.7851441 , 13.91732803, 14.65049716, 12.45098976,  8.7851441 ,\n",
       "       10.9846515 , 10.25148237, 16.85000455, 15.38366629, 13.1841589 ,\n",
       "       13.91732803, 20.51585021, 13.1841589 ,  9.51831324, 17.58317369,\n",
       "       13.91732803, 15.38366629, 17.58317369, 15.38366629, 10.25148237,\n",
       "       17.58317369,  8.05197497, 10.25148237, 11.71782063,  7.31880584,\n",
       "       18.31634282, 13.91732803, 10.9846515 , 21.24901935, 18.31634282,\n",
       "       12.45098976, 15.38366629, 13.91732803, 13.1841589 , 13.91732803,\n",
       "       13.1841589 ,  7.31880584, 11.71782063,  9.51831324, 10.9846515 ,\n",
       "       10.9846515 , 15.38366629, 15.38366629, 21.98218848, 39.57824765,\n",
       "       10.25148237, 16.85000455, 13.1841589 , 13.1841589 , 13.91732803,\n",
       "        7.31880584, 10.9846515 , 18.31634282,  8.7851441 , 21.24901935,\n",
       "        8.05197497,  9.51831324, 11.71782063, 10.25148237, 16.11683542,\n",
       "       12.45098976, 11.71782063, 19.04951195, 10.9846515 , 10.25148237,\n",
       "       16.85000455,  6.58563671, 10.9846515 ,  8.7851441 , 15.38366629,\n",
       "       10.25148237, 19.78268108, 22.71535761, 16.85000455, 38.11190938,\n",
       "       18.31634282, 18.31634282, 10.9846515 , 12.45098976, 22.71535761,\n",
       "       16.11683542, 12.45098976, 18.31634282, 14.65049716, 10.25148237,\n",
       "       40.31141678, 20.51585021, 10.9846515 , 13.1841589 , 24.18169587,\n",
       "       25.64803414, 14.65049716,  9.51831324, 13.91732803,  8.7851441 ,\n",
       "       15.38366629, 16.85000455, 14.65049716, 13.1841589 ,  8.7851441 ,\n",
       "       10.9846515 , 12.45098976, 16.85000455, 10.25148237, 12.45098976,\n",
       "       10.25148237, 11.71782063,  9.51831324, 27.84754153, 14.65049716,\n",
       "       10.9846515 , 10.9846515 , 13.91732803, 12.45098976, 12.45098976,\n",
       "        9.51831324, 12.45098976, 15.38366629, 16.85000455, 24.18169587,\n",
       "       12.45098976, 17.58317369, 12.45098976, 17.58317369, 13.1841589 ,\n",
       "       22.71535761, 10.25148237,  8.7851441 , 10.25148237, 11.71782063,\n",
       "       10.9846515 , 12.45098976, 10.9846515 , 18.31634282, 16.11683542,\n",
       "       17.58317369, 16.85000455, 10.9846515 , 16.11683542, 12.45098976])"
      ]
     },
     "execution_count": 17,
     "metadata": {},
     "output_type": "execute_result"
    }
   ],
   "source": [
    "regression.predict(X)"
   ]
  },
  {
   "cell_type": "markdown",
   "metadata": {},
   "source": [
    "### Q1. Plot the regression line in red color along with the scatter plot"
   ]
  },
  {
   "cell_type": "code",
   "execution_count": 24,
   "metadata": {
    "collapsed": false,
    "jupyter": {
     "outputs_hidden": false
    }
   },
   "outputs": [],
   "source": [
    "# your code here"
   ]
  },
  {
   "cell_type": "markdown",
   "metadata": {},
   "source": [
    "## Step #3: Evaluate and Interpret the Model"
   ]
  },
  {
   "cell_type": "markdown",
   "metadata": {},
   "source": [
    "### 1. Train vs Test Error"
   ]
  },
  {
   "cell_type": "code",
   "execution_count": 15,
   "metadata": {
    "collapsed": false,
    "jupyter": {
     "outputs_hidden": false
    }
   },
   "outputs": [
    {
     "name": "stdout",
     "output_type": "stream",
     "text": [
      "The train MSE is 48.59886786981504, the test MSE is 52.199666372395114\n"
     ]
    }
   ],
   "source": [
    "X_train, X_test, y_train, y_test = train_test_split(X, y, test_size=0.33, random_state=6)\n",
    "\n",
    "train_MSE= np.mean((y_train - regression.predict(X_train))**2)\n",
    "test_MSE= np.mean((y_test - regression.predict(X_test))**2)\n",
    "print('The train MSE is {}, the test MSE is {}'.format(train_MSE, test_MSE))"
   ]
  },
  {
   "cell_type": "markdown",
   "metadata": {},
   "source": [
    "### Q2. Why is the MSE for test higher? \n",
    "\n",
    "*your answer here*"
   ]
  },
  {
   "cell_type": "markdown",
   "metadata": {},
   "source": [
    "### 2. Uncertainty in the Model Parameter Estimates\n",
    "\n",
    "Our sample of 1000 data points is but one possible sample from the population. In general you would only see that sample. But here we can sample multiple smaller datasets of 1000 points from the large data. So lets play. (If we didnt have multiple samples we would have to bootstrap the original sample)"
   ]
  },
  {
   "cell_type": "code",
   "execution_count": 21,
   "metadata": {
    "collapsed": false,
    "jupyter": {
     "outputs_hidden": false
    }
   },
   "outputs": [],
   "source": [
    "def find_regression_params(datapoints):\n",
    "    # randomly select number of samples from the big data\n",
    "    nyc_cab_sample = nyc_cab_df.sample(n=datapoints)\n",
    "    \n",
    "    y = nyc_cab_sample['Fare_amount'].values\n",
    "    X = nyc_cab_sample[['Trip Length (min)']].values\n",
    "    regression_model = LinearRegression(fit_intercept=True)\n",
    "    regression_model.fit(X, y)\n",
    "    return regression_model.intercept_, regression_model.coef_[0]"
   ]
  },
  {
   "cell_type": "code",
   "execution_count": 22,
   "metadata": {
    "collapsed": false,
    "jupyter": {
     "outputs_hidden": false
    }
   },
   "outputs": [
    {
     "name": "stdout",
     "output_type": "stream",
     "text": [
      "100%"
     ]
    }
   ],
   "source": [
    "import sys\n",
    "replications = 500 # we take 5000 replications of 1000 points each\n",
    "datapoints_in_sample = 1000\n",
    "regression_params = []\n",
    "\n",
    "for i in range(replications):\n",
    "    if i % 10 == 0:\n",
    "        out = (i / replications) * 100\n",
    "        sys.stdout.write(\"\\r%d%%\" % out)\n",
    "        sys.stdout.flush()\n",
    "        \n",
    "    regression_params.append(find_regression_params(datapoints_in_sample))\n",
    "    \n",
    "sys.stdout.write(\"\\r%d%%\" % 100)\n",
    "regression_params = np.array(regression_params)"
   ]
  },
  {
   "cell_type": "code",
   "execution_count": 23,
   "metadata": {
    "collapsed": false,
    "jupyter": {
     "outputs_hidden": false
    }
   },
   "outputs": [
    {
     "data": {
      "image/png": "[encoded data removed]",
      "text/plain": [
       "<Figure size 1000x500 with 2 Axes>"
      ]
     },
     "metadata": {},
     "output_type": "display_data"
    }
   ],
   "source": [
    "fig, ax = plt.subplots(1, 2, figsize=(10, 5))\n",
    "\n",
    "ax[0].hist(regression_params[:, 0], bins=50, color='blue', edgecolor='white', linewidth=1, alpha=0.2)\n",
    "ax[0].axvline(x=regression_params[:, 0].mean(), color='red', label='mean = {0:.2f}'.format(regression_params[:, 0].mean()))\n",
    "ax[0].axvline(x=regression_params[:, 0].mean() - 2 * regression_params[:, 0].std(), color='green', linestyle='--', label='std = {0:.2f}'.format(regression_params[:, 0].std()))\n",
    "ax[0].axvline(x=regression_params[:, 0].mean() + 2 * regression_params[:, 0].std(), color='green', linestyle='--')\n",
    "\n",
    "ax[0].set_xlabel('Intercept')\n",
    "ax[0].set_ylabel('Frequency')\n",
    "ax[0].set_title('Histogram of Estimates of Intercept')\n",
    "ax[0].legend(loc='best')\n",
    "\n",
    "\n",
    "ax[1].hist(regression_params[:, 1], bins=50, color='gray', edgecolor='white', linewidth=1, alpha=0.2)\n",
    "ax[1].axvline(x=regression_params[:, 1].mean(), color='red', label='mean = {0:.2f}'.format(regression_params[:, 1].mean()))\n",
    "ax[1].axvline(x=regression_params[:, 1].mean() - 2 * regression_params[:, 1].std(), color='green', linestyle='--', label='std = {0:.2f}'.format(regression_params[:, 1].std()))\n",
    "ax[1].axvline(x=regression_params[:, 1].mean() + 2 * regression_params[:, 1].std(), color='green', linestyle='--')\n",
    "\n",
    "ax[1].set_xlabel('Slope')\n",
    "ax[1].set_ylabel('Frequency')\n",
    "ax[1].set_title('Histogram of Estimates of Slope')\n",
    "ax[1].legend(loc='best')\n",
    "\n",
    "plt.tight_layout()\n"
   ]
  },
  {
   "cell_type": "markdown",
   "metadata": {},
   "source": [
    "### Q3. What distributions are these? Why?\n",
    "\n",
    "*your answer here*"
   ]
  },
  {
   "cell_type": "markdown",
   "metadata": {},
   "source": [
    "### Q4 Use matplotlib to draw the 500 regression lines corresponding to the 500 replications (tip: create 500 calls to `ax.plot`). How does the visual width of the 500 lines in the y-direction compare to the y-width of the scatter-plot"
   ]
  },
  {
   "cell_type": "code",
   "execution_count": null,
   "metadata": {},
   "outputs": [],
   "source": [
    "# your code here"
   ]
  },
  {
   "cell_type": "markdown",
   "metadata": {},
   "source": [
    "*your answer here*"
   ]
  },
  {
   "cell_type": "markdown",
   "metadata": {},
   "source": [
    "### Q5. The Effect of Sample Size on Uncertainty\n",
    "\n",
    "What happens if you increase the number of datapoints in the sample? How do these histograms change?\n",
    "\n",
    "*your answer here*"
   ]
  },
  {
   "cell_type": "markdown",
   "metadata": {},
   "source": [
    "### Q6. Redo the scatter plot from the original sample. Now take the regression line fit from that original sample and use it to generate a new dataset. To do this, consider the prediction at each point `X`. Remember that this prediction is the center of a gaussian distribution on the y-direction with mean the prediction at that `X` and standard deviation $\\sigma$. I provide the formula for the standard deviation below. Now use the `norm` object from `scipy.stats` to draw a random variable at each point in X, which will be the drawn `y` at that point (as opposed to the mean `y` given to us by the regression line). Plot this new dataset as a scatter plot along with the original dataset and the regression line. Is it the same dataset? Is it a new one?"
   ]
  },
  {
   "cell_type": "code",
   "execution_count": null,
   "metadata": {},
   "outputs": [],
   "source": [
    "# your code here"
   ]
  },
  {
   "cell_type": "markdown",
   "metadata": {},
   "source": [
    "*your answer here*"
   ]
  }
 ],
 "metadata": {
  "anaconda-cloud": {},
  "kernelspec": {
   "display_name": "Python 3 (ipykernel)",
   "language": "python",
   "name": "python3"
  },
  "language_info": {
   "codemirror_mode": {
    "name": "ipython",
    "version": 3
   },
   "file_extension": ".py",
   "mimetype": "text/x-python",
   "name": "python",
   "nbconvert_exporter": "python",
   "pygments_lexer": "ipython3",
   "version": "3.13.0"
  }
 },
 "nbformat": 4,
 "nbformat_minor": 4
}
